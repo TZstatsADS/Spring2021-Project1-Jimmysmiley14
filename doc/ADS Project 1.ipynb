{
 "cells": [
  {
   "cell_type": "markdown",
   "metadata": {},
   "source": [
    "# Applied Data Science Project 1:\n",
    "\n"
   ]
  },
  {
   "cell_type": "markdown",
   "metadata": {},
   "source": [
    "Jimmy Smiley\n",
    "Cognitive Disonance Voter Trends:\n",
    "\n",
    "The aim of this project is to look into the trends associated with voters who show cognitive dissonance. The data that will be considered is from American National Election Studies(ANES). There were two forms for this survey form 1(1498 surveys) and form 2(1582 surveys). More specifically the data is from the 2020 exploratory testing survey. More info about the survey will be in the data folder. The first step in this analysis is to describe the qualifications for cognitive dissonance and to make a global definition.\n",
    "\n",
    "Cognitive dissonance is defined as the state of having inconsistent thoughts, beliefs, or attitudes, especially as relating to behavioral decisions and attitude change. This is according to google dictionary. This will be our working definition. In terms of our survey, being in this state of inconsistency will shine through certain questions and answers. The scope of this project will explore three paired questions on the survey.\n"
   ]
  },
  {
   "cell_type": "markdown",
   "metadata": {},
   "source": [
    "# Pair One:\n",
    "\n",
    "The first pair of questions on the survey that will be analyzed are below. These questions were only on form one which had 1498 responses.\n",
    "\n",
    "\n",
    "1.) (antirelig1) There are always some people whose ideas are considered bad or dangerous by other people. For instance, somebody who is against all church and religion. If such a person wanted to make a speech in your community against churches and religion, should he or she be allowed to speak or not?\n",
    "\n",
    "The two answers were\n",
    "\n",
    "    1. Allowed to speak\n",
    "    2. Not Allowed to speak\n",
    "    \n",
    "2.) (moralcert3)  How well do the following statements fit with your own views? Diversity of opinion is valuable in any group or organization.\n",
    "\n",
    "The answers were\n",
    "\n",
    "    1. Not well at all\n",
    "    2. Slighty well\n",
    "    3. Moderately well\n",
    "    4. Very well\n",
    "    5. Extremely well\n",
    "    \n",
    "The answers that are very contradictory are \"Not allowed to speak\" and \"Extremely well\". The opposite contradictory answers; \"Allowed to speak\" and \"Not well at all\" aren't as strong with the wording. Becuase of this only the first set of contradictory answers will be analyzed. \n",
    "\n",
    "In our analysis we will look at mainly demographics of the people who were contradictory. This will include party, age, education level, and sex. \n",
    " "
   ]
  },
  {
   "cell_type": "code",
   "execution_count": 400,
   "metadata": {},
   "outputs": [],
   "source": [
    "import numpy as np\n",
    "import pandas as pd\n",
    "import matplotlib.pyplot as plt\n",
    "\n",
    "data = pd.read_csv(\"anes_pilot_2020ets_csv.csv\")"
   ]
  },
  {
   "cell_type": "markdown",
   "metadata": {},
   "source": [
    "From our data we need a list of every qualifyer that will be examined."
   ]
  },
  {
   "cell_type": "code",
   "execution_count": 401,
   "metadata": {},
   "outputs": [],
   "source": [
    "sex=data[\"sex\"]\n",
    "age=data[\"birthyr\"]\n",
    "educ=data[\"educ\"]\n",
    "party=data[\"pid1r\"]\n",
    "stress1=data[\"stress1\"]\n",
    "stress4=data[\"stress4\"]\n",
    "moralcert=data[\"moralcert3\"]\n",
    "relig=data[\"antirelig1\"]\n",
    "speech=data[\"speech1\"]\n",
    "callout=data[\"callout2\"]\n",
    "check=data[\"check\"]\n",
    "serious=data[\"serious\"]\n",
    "\n",
    "sex_2=pd.DataFrame(sex, columns = ['sex']) #put data into dataframe\n",
    "age_2=pd.DataFrame(age, columns = ['birthyr'])\n",
    "educ_2=pd.DataFrame(educ, columns = ['educ'])\n",
    "party_2=pd.DataFrame(party, columns = ['pid1r'])\n",
    "stress1_2=pd.DataFrame(stress1, columns = ['stress1'])\n",
    "stress4_2=pd.DataFrame(stress4, columns = ['stress4'])\n",
    "moralcert_2=pd.DataFrame(moralcert, columns = ['moralcert3'])\n",
    "relig_2=pd.DataFrame(relig, columns = ['antirelig1'])\n",
    "speech_2=pd.DataFrame(speech,columns = ['speech1'])\n",
    "callout_2=pd.DataFrame(callout, columns= ['callout2'])\n",
    "check_2=pd.DataFrame(check, columns = ['check'])\n",
    "serious_2=pd.DataFrame(serious, columns = ['serious'])\n",
    "\n",
    "sex_3=sex_2.fillna(value=np.nan) #get rid of all Nonetype objects for iteration\n",
    "age_3=age_2.fillna(value=np.nan)\n",
    "educ_3=educ_2.fillna(value=np.nan)\n",
    "party_3=party_2.fillna(value=np.nan)\n",
    "stress1_3=stress1_2.fillna(value=np.nan)\n",
    "stress4_3=stress4_2.fillna(value=np.nan)\n",
    "moralcert_3=moralcert_2.fillna(value=np.nan)\n",
    "relig_3=relig_2.fillna(value=np.nan)\n",
    "speech_3=speech_2.fillna(value=np.nan)\n",
    "callout_3=callout_2.fillna(value=np.nan)\n",
    "check_3=check_2.fillna(value=np.nan)\n",
    "serious_3=serious_2.fillna(value=np.nan)\n",
    "\n",
    "\n",
    "sex_list=sex_3['sex'].tolist() # turn data frame columns into lists ready to iterate over\n",
    "age_list=age_3['birthyr'].tolist()\n",
    "educ_list=educ_3['educ'].tolist()\n",
    "party_list=party_3['pid1r'].tolist()\n",
    "stress1_list=stress1_3['stress1'].tolist()\n",
    "stress4_list=stress4_3['stress4'].tolist()\n",
    "moral_list=moralcert_3['moralcert3'].tolist()\n",
    "relig_list=relig_3['antirelig1'].tolist()\n",
    "speech_list=speech_3['speech1'].tolist()\n",
    "callout_list=callout_3['callout2'].tolist()\n",
    "check_list=check_3['check'].tolist()\n",
    "serious_list=serious_3['serious'].tolist()\n",
    "\n",
    "educate_quals=['no HS degree','HS degree', 'College Dropout', 'Associates Degree', 'Bachelors Degree','Masters Degree','Professional Degree','Doctorate Degree']\n",
    "partie_quals=['Rep','Dem','Ind','Oth']\n"
   ]
  },
  {
   "cell_type": "code",
   "execution_count": 402,
   "metadata": {},
   "outputs": [],
   "source": [
    "def Listalyze(list1,list2,ans1,ans2,age,sex,educ,stress1,stress2,party):\n",
    "    total=len(list1)\n",
    "    totalcount=0\n",
    "    df=pd.DataFrame(columns=[\"age\",'sex','education','stress1','stress2','party'])\n",
    "    columns=list(df)\n",
    "    data1=[]\n",
    "    for i in range (total):\n",
    "        if list1[i]==ans1:\n",
    "            if list2[i]==ans2:\n",
    "                totalcount+=1\n",
    "                values = [2020-age[i],sex[i],educ[i],stress1[i],stress2[i],party[i]]\n",
    "                zipped = zip(columns, values)\n",
    "                a_dictionary = dict(zipped)\n",
    "                data1.append(a_dictionary)\n",
    "            else:\n",
    "                totalcount=totalcount\n",
    "        else:\n",
    "            totalcount=totalcount\n",
    "    df = df.append(data1, True)\n",
    "    print(\"The total amount of people whose answers are contradictory is\", totalcount)\n",
    "    return df\n",
    "\n",
    "def Listalyze2(list1,list2,ans1,ans2,age,sex,educ,stress1,stress2,party):\n",
    "    total=len(list1)\n",
    "    totalcount=0\n",
    "    stresscount=0\n",
    "    df=pd.DataFrame(columns=[\"age\",'sex','education','stress1','stress2','party'])\n",
    "    columns=list(df)\n",
    "    data1=[]\n",
    "    for i in range (total):\n",
    "        if list1[i]==ans1:\n",
    "            if list2[i]!=ans2:\n",
    "                totalcount+=1\n",
    "                values = [2020-age[i],sex[i],educ[i],stress1[i],stress2[i],party[i]]\n",
    "                zipped = zip(columns, values)\n",
    "                a_dictionary = dict(zipped)\n",
    "                data1.append(a_dictionary)\n",
    "                if stress1[i]<7:\n",
    "                    stresscount+=1\n",
    "                else:\n",
    "                    stresscount=stresscount\n",
    "            else:\n",
    "                totalcount=totalcount\n",
    "        else:\n",
    "            totalcount=totalcount\n",
    "    df = df.append(data1, True)\n",
    "    print(\"The total amount of people whose answers are contradictory is\", totalcount)\n",
    "    print(\"The total number of people who filled out form 1 is\", totalcount-stresscount)\n",
    "    return df\n",
    "\n",
    "def sex(list):\n",
    "    nlist=[]\n",
    "    for i in range (len(list)):\n",
    "        if list[i]==1:\n",
    "            nlist.append('Male')\n",
    "        else:\n",
    "            nlist.append('Female')\n",
    "    return nlist\n",
    "\n",
    "def educate(list):\n",
    "    nh=0\n",
    "    h=0\n",
    "    cd=0\n",
    "    a=0\n",
    "    b=0\n",
    "    m=0\n",
    "    p=0\n",
    "    d=0\n",
    "    for i in range (len(list)):\n",
    "        if list[i]==1:\n",
    "            nh+=1\n",
    "        elif list[i]==2:\n",
    "            h+=1\n",
    "        elif list[i]==3:\n",
    "            cd+=1\n",
    "        elif list[i]==4:\n",
    "            a+=1\n",
    "        elif list[i]==5:\n",
    "            b+=1\n",
    "        elif list[i]==6:\n",
    "            m+=1\n",
    "        elif list[i]==7:\n",
    "            p+=1\n",
    "        else:\n",
    "            d+=1\n",
    "    return [nh,h,cd,a,b,m,p,d]\n",
    "\n",
    "def partie(list):\n",
    "    r=0\n",
    "    d=0\n",
    "    ind=0\n",
    "    o=0\n",
    "    for i in range (len(list)):\n",
    "        if list[i]== 1:\n",
    "            r+=1\n",
    "        elif list[i]==2:\n",
    "            d+=1\n",
    "        elif list[i]==3:\n",
    "            ind+=1\n",
    "        else:\n",
    "            o+=1\n",
    "    return [r,d,ind,o]\n",
    "        "
   ]
  },
  {
   "cell_type": "code",
   "execution_count": 403,
   "metadata": {},
   "outputs": [
    {
     "name": "stdout",
     "output_type": "stream",
     "text": [
      "The total amount of people whose answers are contradictory is 79\n"
     ]
    }
   ],
   "source": [
    "usefuldata=Listalyze(moral_list,relig_list,5,2,age_list,sex_list,educ_list,stress1_list,stress4_list,party_list)"
   ]
  },
  {
   "cell_type": "code",
   "execution_count": 404,
   "metadata": {},
   "outputs": [],
   "source": [
    "p1sex=sex(usefuldata['sex'].tolist())\n",
    "p1age=usefuldata['age'].tolist()\n",
    "p1educ=educate(usefuldata['education'].tolist())\n",
    "p1party=partie(usefuldata['party'].tolist())\n",
    "\n",
    "m1=0\n",
    "f1=0\n",
    "\n",
    "for i in range (len(p1sex)):\n",
    "    if p1sex[i]=='Male':\n",
    "        m1+=1\n",
    "    else:\n",
    "        f1+=1\n",
    "sex1=[m1,f1]\n",
    "\n",
    "        "
   ]
  },
  {
   "cell_type": "code",
   "execution_count": 405,
   "metadata": {},
   "outputs": [
    {
     "data": {
      "image/png": "[encoded data removed]",
      "text/plain": [
       "<Figure size 432x288 with 1 Axes>"
      ]
     },
     "metadata": {
      "needs_background": "light"
     },
     "output_type": "display_data"
    }
   ],
   "source": [
    "plt.hist(p1sex, bins=3, align='mid', color='b', edgecolor='red',\n",
    "              linewidth=1)\n",
    " \n",
    "# Add axis labels\n",
    "plt.xlabel(\"Sex\")\n",
    "plt.ylabel(\"Freq\")\n",
    "plt.title(\"Pair 1 Male vs Female\")\n",
    "plt.savefig('p1sex.png', dpi=300, bbox_inches='tight')\n",
    " \n",
    "plt.show()"
   ]
  },
  {
   "cell_type": "code",
   "execution_count": 406,
   "metadata": {},
   "outputs": [
    {
     "data": {
      "image/png": "[encoded data removed]",
      "text/plain": [
       "<Figure size 432x288 with 1 Axes>"
      ]
     },
     "metadata": {
      "needs_background": "light"
     },
     "output_type": "display_data"
    }
   ],
   "source": [
    "plt.hist(p1age, bins=20, align='mid', color='b', edgecolor='red',\n",
    "              linewidth=1)\n",
    " \n",
    "# Add axis labels\n",
    "plt.xlabel(\"Age\")\n",
    "plt.ylabel(\"Freq\")\n",
    "plt.title(\"Pair 1 Age Demographics\")\n",
    "plt.savefig('p1age.png', dpi=300, bbox_inches='tight')\n",
    " \n",
    "plt.show()"
   ]
  },
  {
   "cell_type": "code",
   "execution_count": 407,
   "metadata": {},
   "outputs": [
    {
     "data": {
      "image/png": "[encoded data removed]",
      "text/plain": [
       "<Figure size 432x288 with 1 Axes>"
      ]
     },
     "metadata": {
      "needs_background": "light"
     },
     "output_type": "display_data"
    }
   ],
   "source": [
    "plt.barh(educate_quals, p1educ ,color='b', edgecolor = 'red')\n",
    "# This is the location for the annotated text\n",
    "\n",
    "# Giving the tilte for the plot\n",
    "plt.title(\"Pair 1 Education Levels\")\n",
    "# Namimg the x and y axis\n",
    "plt.ylabel('Education Level')\n",
    "plt.xlabel('Freq')\n",
    "plt.savefig('p1educ.png', dpi=300, bbox_inches='tight')\n",
    "# Displaying the bar plot\n",
    "plt.show()"
   ]
  },
  {
   "cell_type": "code",
   "execution_count": 408,
   "metadata": {},
   "outputs": [
    {
     "data": {
      "image/png": "[encoded data removed]",
      "text/plain": [
       "<Figure size 432x288 with 1 Axes>"
      ]
     },
     "metadata": {
      "needs_background": "light"
     },
     "output_type": "display_data"
    }
   ],
   "source": [
    "plt.bar(partie_quals, p1party, width= 0.9, align='center',color='b', edgecolor = 'red')\n",
    "# This is the location for the annotated text\n",
    "i = 1.0\n",
    "j = 2000\n",
    "# Annotating the bar plot with the values (total death count)\n",
    "for i in range(len(partie_quals)):\n",
    "    plt.annotate(p1party[i], (-0.1 + i, p1party[i] +.1))\n",
    "# Giving the tilte for the plot\n",
    "plt.title(\"Pair 1 Party Demographics\")\n",
    "# Namimg the x and y axis\n",
    "plt.xlabel('Party')\n",
    "plt.ylabel('Freq')\n",
    "plt.savefig('p1party.png', dpi=300, bbox_inches='tight')\n",
    "\n",
    "# Displaying the bar plot\n",
    "plt.show()"
   ]
  },
  {
   "cell_type": "markdown",
   "metadata": {},
   "source": [
    "# Pair Two:\n",
    "\n",
    "The second pair of questions on the survey that will be analyzed are below. These questions only appeared in form 1 so only 1498 people answered. \n",
    "\n",
    "\n",
    "1.) (callout2) When a person unintentionally behaves in a way that is hurtful or that discriminates against others,\n",
    " how important is it for people to point out and publicly criticize this behavior?\n",
    " \n",
    " The answers were\n",
    " \n",
    "    1. Extremely important \n",
    "    2. Very important\n",
    "    3. Moderately important\n",
    "    4. A little important\n",
    "    5. Not at all important\n",
    "    \n",
    "2.)  (speech1) Some complain that too many people are easily offended these days and too quick to police what\n",
    " others say. They refer to this as “political correctness.” In your view, how serious of a problem is political\n",
    " correctness?\n",
    "\n",
    "The answers were\n",
    "\n",
    "    1. Extremely serious \n",
    "    2. Very serious\n",
    "    3. Moderately serious\n",
    "    4. A little serious\n",
    "    5. Not at all serious\n",
    "    \n",
    "The answers that are very contradictory are \"Extremely Important\" and \"Extremely serious\". The opposite contradictory answers aren't as strong with the wording. Becuase of this only the first set of contradictory answers will be analyzed. \n",
    "\n",
    "In our analysis we will look at mainly demographics of the people who were contradictory. This will include party, age, education level, and sex. "
   ]
  },
  {
   "cell_type": "code",
   "execution_count": 409,
   "metadata": {},
   "outputs": [
    {
     "name": "stdout",
     "output_type": "stream",
     "text": [
      "The total amount of people whose answers are contradictory is 107\n"
     ]
    }
   ],
   "source": [
    "usefuldata2=Listalyze(speech_list,callout_list,1,1,age_list,sex_list,educ_list,stress1_list,stress4_list,party_list)"
   ]
  },
  {
   "cell_type": "code",
   "execution_count": 410,
   "metadata": {},
   "outputs": [],
   "source": [
    "p2sex=sex(usefuldata2['sex'].tolist())\n",
    "p2age=usefuldata2['age'].tolist()\n",
    "p2educ=educate(usefuldata2['education'].tolist())\n",
    "p2party=partie(usefuldata2['party'].tolist())\n",
    "\n",
    "m2=0\n",
    "f2=0\n",
    "\n",
    "for i in range (len(p2sex)):\n",
    "    if p2sex[i]=='Male':\n",
    "        m2+=1\n",
    "    else:\n",
    "        f2+=1\n",
    "sex2=[m2,f2]\n",
    "\n"
   ]
  },
  {
   "cell_type": "code",
   "execution_count": 428,
   "metadata": {},
   "outputs": [
    {
     "data": {
      "image/png": "[encoded data removed]",
      "text/plain": [
       "<Figure size 432x288 with 1 Axes>"
      ]
     },
     "metadata": {
      "needs_background": "light"
     },
     "output_type": "display_data"
    }
   ],
   "source": [
    "plt.hist(p2sex, bins=3, align='mid', color='r', edgecolor='b',\n",
    "              linewidth=1)\n",
    "\n",
    "# Add axis labels\n",
    "plt.xlabel(\"Sex\")\n",
    "plt.ylabel(\"Freq\")\n",
    "plt.title(\"Pair 2 Male vs Female\")\n",
    "plt.savefig('p2sex.png', dpi=300, bbox_inches='tight')\n",
    " \n",
    "plt.show()"
   ]
  },
  {
   "cell_type": "code",
   "execution_count": 429,
   "metadata": {},
   "outputs": [
    {
     "data": {
      "image/png": "[encoded data removed]",
      "text/plain": [
       "<Figure size 432x288 with 1 Axes>"
      ]
     },
     "metadata": {
      "needs_background": "light"
     },
     "output_type": "display_data"
    }
   ],
   "source": [
    "plt.hist(p2age, bins=20, align='mid', color='r', edgecolor='b',\n",
    "              linewidth=1)\n",
    " \n",
    "# Add axis labels\n",
    "plt.xlabel(\"Age\")\n",
    "plt.ylabel(\"Freq\")\n",
    "plt.title(\"Pair 2 Age Demographics\")\n",
    "plt.savefig('p2age.png', dpi=300, bbox_inches='tight')\n",
    " \n",
    "plt.show()"
   ]
  },
  {
   "cell_type": "code",
   "execution_count": 413,
   "metadata": {},
   "outputs": [
    {
     "data": {
      "image/png": "[encoded data removed]",
      "text/plain": [
       "<Figure size 432x288 with 1 Axes>"
      ]
     },
     "metadata": {
      "needs_background": "light"
     },
     "output_type": "display_data"
    }
   ],
   "source": [
    "plt.barh(educate_quals, p2educ ,color='r', edgecolor = 'b')\n",
    "# This is the location for the annotated text\n",
    "\n",
    "# Giving the tilte for the plot\n",
    "plt.title(\"Pair 2 Education Levels\")\n",
    "# Namimg the x and y axis\n",
    "plt.ylabel('Education Level')\n",
    "plt.xlabel('Freq')\n",
    "plt.savefig('p2educ.png', dpi=300, bbox_inches='tight')\n",
    "# Displaying the bar plot\n",
    "plt.show()"
   ]
  },
  {
   "cell_type": "code",
   "execution_count": 414,
   "metadata": {},
   "outputs": [
    {
     "data": {
      "image/png": "[encoded data removed]",
      "text/plain": [
       "<Figure size 432x288 with 1 Axes>"
      ]
     },
     "metadata": {
      "needs_background": "light"
     },
     "output_type": "display_data"
    }
   ],
   "source": [
    "plt.bar(partie_quals, p2party, width= 0.9, align='center',color='r', edgecolor = 'b')\n",
    "# This is the location for the annotated text\n",
    "i = 1.0\n",
    "j = 2000\n",
    "# Annotating the bar plot with the values (total death count)\n",
    "for i in range(len(partie_quals)):\n",
    "    plt.annotate(p2party[i], (-0.1 + i, p2party[i] +.2))\n",
    "# Giving the tilte for the plot\n",
    "plt.title(\"Pair 2 Party Demographics\")\n",
    "# Namimg the x and y axis\n",
    "plt.xlabel('Party')\n",
    "plt.ylabel('Freq')\n",
    "plt.savefig('p2party.png', dpi=300, bbox_inches='tight')\n",
    "\n",
    "# Displaying the bar plot\n",
    "plt.show()"
   ]
  },
  {
   "cell_type": "markdown",
   "metadata": {},
   "source": [
    "# Pair Three:\n",
    "\n",
    "The third pair of questions on the survey that will be analyzed are below. These questions appeared on both forms. This is the most direct contradicting questions there were on the survey. On page 9 of the survey there is a check question. If someone didn't answer this question properly then they weren't paying attention. \n",
    "\n",
    "\n",
    "1.) (check) To help us be sure your device is working properly with ours, please select “slightly disagree” below.\n",
    " \n",
    " The answers were\n",
    " \n",
    "    1. Strongly agree\n",
    "    2. Moderately agree\n",
    "    3. Slightly agree\n",
    "    4. Neither agree nor disagree \n",
    "    5. Slightly disagree\n",
    "    6. Moderately disagree\n",
    "    7. Strongly disagree\n",
    "    \n",
    "2.)  (serious) We sometimes find people don't always take surveys seriously, instead providing funny or\n",
    "insincere answers. How often did you give a serious response to the questions on the survey?\n",
    "\n",
    "The answers were\n",
    "\n",
    "    1. Never Serious\n",
    "    2. Serious some of the time\n",
    "    3. Serious half of the time\n",
    "    4. Serious most of the time\n",
    "    5. Always serious\n",
    "    \n",
    "The answers that are very contradictory are \"Always serious\" and one of the wrong answersto the check question. If someone answered the check question wrong then they weren't always serious. It is very easy to see the contradiction here. \n",
    "\n",
    "In our analysis we will look at mainly demographics of the people who were contradictory. This will include party, age, education level, sex, and stress levels(if form 2). "
   ]
  },
  {
   "cell_type": "code",
   "execution_count": 415,
   "metadata": {},
   "outputs": [
    {
     "name": "stdout",
     "output_type": "stream",
     "text": [
      "The total amount of people whose answers are contradictory is 205\n",
      "The total number of people who filled out form 1 is 93\n"
     ]
    }
   ],
   "source": [
    "usefuldata3=Listalyze2(serious_list,check_list,5,5,age_list,sex_list,educ_list,stress1_list,stress4_list,party_list)"
   ]
  },
  {
   "cell_type": "code",
   "execution_count": 416,
   "metadata": {},
   "outputs": [],
   "source": [
    "p3sex=sex(usefuldata3['sex'].tolist())\n",
    "p3age=usefuldata3['age'].tolist()\n",
    "p3educ=educate(usefuldata3['education'].tolist())\n",
    "p3party=partie(usefuldata3['party'].tolist())\n",
    "\n",
    "\n",
    "m3=0\n",
    "f3=0\n",
    "\n",
    "for i in range (len(p3sex)):\n",
    "    if p3sex[i]=='Male':\n",
    "        m3+=1\n",
    "    else:\n",
    "        f3+=1\n",
    "sex3=[m3,f3]"
   ]
  },
  {
   "cell_type": "code",
   "execution_count": 417,
   "metadata": {},
   "outputs": [
    {
     "data": {
      "image/png": "[encoded data removed]",
      "text/plain": [
       "<Figure size 432x288 with 1 Axes>"
      ]
     },
     "metadata": {
      "needs_background": "light"
     },
     "output_type": "display_data"
    }
   ],
   "source": [
    "plt.hist(p3sex, bins=3, align='mid', color='Purple',edgecolor='black',\n",
    "              linewidth=1)\n",
    " \n",
    "# Add axis labels\n",
    "plt.xlabel(\"Sex\")\n",
    "plt.ylabel(\"Freq\")\n",
    "plt.title(\"Pair 3 Male vs Female\")\n",
    "plt.savefig('p3sex.png', dpi=300, bbox_inches='tight')\n",
    " \n",
    "plt.show()"
   ]
  },
  {
   "cell_type": "code",
   "execution_count": 418,
   "metadata": {},
   "outputs": [
    {
     "data": {
      "image/png": "[encoded data removed]",
      "text/plain": [
       "<Figure size 432x288 with 1 Axes>"
      ]
     },
     "metadata": {
      "needs_background": "light"
     },
     "output_type": "display_data"
    }
   ],
   "source": [
    "plt.hist(p3age, bins=20, align='mid', color='purple',edgecolor='black',\n",
    "              linewidth=1)\n",
    " \n",
    "# Add axis labels\n",
    "plt.xlabel(\"Age\")\n",
    "plt.ylabel(\"Freq\")\n",
    "plt.title(\"Pair 3 Age Demographics\")\n",
    "plt.savefig('p3age.png', dpi=300, bbox_inches='tight')\n",
    " \n",
    "plt.show()"
   ]
  },
  {
   "cell_type": "code",
   "execution_count": 419,
   "metadata": {},
   "outputs": [
    {
     "data": {
      "image/png": "[encoded data removed]",
      "text/plain": [
       "<Figure size 432x288 with 1 Axes>"
      ]
     },
     "metadata": {
      "needs_background": "light"
     },
     "output_type": "display_data"
    }
   ],
   "source": [
    "plt.barh(educate_quals, p3educ ,color='purple', edgecolor = 'black')\n",
    "# This is the location for the annotated text\n",
    "\n",
    "# Giving the tilte for the plot\n",
    "plt.title(\"Pair 3 Education Levels\")\n",
    "# Namimg the x and y axis\n",
    "plt.ylabel('Education Level')\n",
    "plt.xlabel('Freq')\n",
    "plt.savefig('p3educ.png', dpi=300, bbox_inches='tight')\n",
    "# Displaying the bar plot\n",
    "plt.show()"
   ]
  },
  {
   "cell_type": "code",
   "execution_count": 420,
   "metadata": {},
   "outputs": [
    {
     "data": {
      "image/png": "[encoded data removed]",
      "text/plain": [
       "<Figure size 432x288 with 1 Axes>"
      ]
     },
     "metadata": {
      "needs_background": "light"
     },
     "output_type": "display_data"
    }
   ],
   "source": [
    "plt.bar(partie_quals, p3party, width= 0.9, align='center',color='purple', edgecolor = 'black')\n",
    "# This is the location for the annotated text\n",
    "i = 1.0\n",
    "j = 2000\n",
    "# Annotating the bar plot with the values (total death count)\n",
    "for i in range(len(partie_quals)):\n",
    "    plt.annotate(p3party[i], (-0.1 + i, p3party[i] +.2))\n",
    "# Giving the tilte for the plot\n",
    "plt.title(\"Pair 3 Party Demographics\")\n",
    "# Namimg the x and y axis\n",
    "plt.xlabel('Party')\n",
    "plt.ylabel('Freq')\n",
    "plt.savefig('p3party.png', dpi=300, bbox_inches='tight')\n",
    "\n",
    "# Displaying the bar plot\n",
    "plt.show()"
   ]
  },
  {
   "cell_type": "markdown",
   "metadata": {},
   "source": [
    "# Conclusion"
   ]
  },
  {
   "cell_type": "code",
   "execution_count": 421,
   "metadata": {},
   "outputs": [
    {
     "data": {
      "image/png": "[encoded data removed]",
      "text/plain": [
       "<Figure size 432x288 with 1 Axes>"
      ]
     },
     "metadata": {
      "needs_background": "light"
     },
     "output_type": "display_data"
    }
   ],
   "source": [
    "\n",
    "#Heights of bars1 + bars2\n",
    "bars = np.add(p1party, p2party).tolist()\n",
    " \n",
    "# The position of the bars on the x-axis\n",
    "r = [0,1,2,3]\n",
    " \n",
    "# Names of group and bar width\n",
    "barWidth = 1\n",
    " \n",
    "# Create brown bars\n",
    "plt.bar(r, p1party, color='b', edgecolor='white', width=barWidth)\n",
    "# Create green bars (middle), on top of the firs ones\n",
    "plt.bar(r, p2party, bottom=p1party, color='r', edgecolor='white', width=barWidth)\n",
    "# Create green bars (top)\n",
    "plt.bar(r, p3party, bottom=bars, color='purple', edgecolor='white', width=barWidth)\n",
    " \n",
    "# Custom X axis\n",
    "plt.xticks(r, partie_quals)\n",
    "plt.xlabel(\"Party\")\n",
    "plt.title('Total of all Three Pairs by Party')\n",
    "plt.ylabel(\"freq\")\n",
    "plt.legend(['Pair 1','Pair 2','Pair 3'],loc=1)\n",
    "plt.savefig('totalparty.png', dpi=300, bbox_inches='tight')\n",
    " \n",
    "# Show graphic\n",
    "plt.show()\n"
   ]
  },
  {
   "cell_type": "code",
   "execution_count": 422,
   "metadata": {},
   "outputs": [
    {
     "data": {
      "image/png": "[encoded data removed]",
      "text/plain": [
       "<Figure size 432x288 with 1 Axes>"
      ]
     },
     "metadata": {
      "needs_background": "light"
     },
     "output_type": "display_data"
    }
   ],
   "source": [
    "#Heights of bars1 + bars2\n",
    "bars = np.add(p1educ, p2educ).tolist()\n",
    " \n",
    "# The position of the bars on the x-axis\n",
    "r = [0,1,2,3,4,5,6,7]\n",
    " \n",
    "# Names of group and bar width\n",
    "barWidth = 1\n",
    " \n",
    "# Create brown bars\n",
    "plt.barh(r, p1educ, color='b', edgecolor='white')\n",
    "# Create green bars (middle), on top of the firs ones\n",
    "plt.barh(r, p2educ, left=p1educ, color='r', edgecolor='white')\n",
    "# Create green bars (top)\n",
    "plt.barh(r, p3educ, left=bars, color='purple', edgecolor='white')\n",
    " \n",
    "# Custom X axis\n",
    "plt.yticks(r, educate_quals)\n",
    "plt.xlabel(\"Freq\")\n",
    "plt.title('Total of all Three Pairs by Education Level')\n",
    "plt.ylabel(\"Education Level\")\n",
    "plt.legend(['Pair 1','Pair 2','Pair 3'],loc=1)\n",
    "plt.savefig('totaleduc.png', dpi=300, bbox_inches='tight')\n",
    " \n",
    "# Show graphic\n",
    "plt.show()"
   ]
  },
  {
   "cell_type": "code",
   "execution_count": 423,
   "metadata": {},
   "outputs": [
    {
     "data": {
      "text/plain": [
       "<matplotlib.legend.Legend at 0x12a5aa8b0>"
      ]
     },
     "execution_count": 423,
     "metadata": {},
     "output_type": "execute_result"
    },
    {
     "data": {
      "image/png": "[encoded data removed]",
      "text/plain": [
       "<Figure size 576x432 with 1 Axes>"
      ]
     },
     "metadata": {
      "needs_background": "light"
     },
     "output_type": "display_data"
    }
   ],
   "source": [
    "plt.figure(figsize=(8,6))\n",
    "plt.hist(p1age, bins=20, alpha=0.5, label=\"Age 1\", color='r')\n",
    "plt.hist(p2age, bins=20, alpha=.5, label=\"Age 2\", color='b')\n",
    "plt.hist(p3age, bins=20, alpha=0.5, label=\"Age 3\")\n",
    "plt.xlabel(\"Age\", size=14)\n",
    "plt.ylabel(\"Count\", size=14)\n",
    "plt.title(\"Histogram Overlap of Ages for all Pairs\")\n",
    "plt.savefig('totalhistogram_ages.png', dpi=300, bbox_inches='tight')\n",
    "plt.legend(loc='upper right')"
   ]
  },
  {
   "cell_type": "code",
   "execution_count": 424,
   "metadata": {},
   "outputs": [
    {
     "data": {
      "image/png": "[encoded data removed]",
      "text/plain": [
       "<Figure size 432x288 with 1 Axes>"
      ]
     },
     "metadata": {
      "needs_background": "light"
     },
     "output_type": "display_data"
    }
   ],
   "source": [
    "#Heights of bars1 + bars2\n",
    "bars = np.add(sex1, sex2).tolist()\n",
    " \n",
    "# The position of the bars on the x-axis\n",
    "r = [0,1]\n",
    " \n",
    "# Names of group and bar width\n",
    "barWidth = 1\n",
    " \n",
    "# Create brown bars\n",
    "plt.bar(r, sex1, color='b', edgecolor='white', width=barWidth)\n",
    "# Create green bars (middle), on top of the firs ones\n",
    "plt.bar(r, sex2, bottom=sex1, color='r', edgecolor='white', width=barWidth)\n",
    "# Create green bars (top)\n",
    "plt.bar(r, sex3, bottom=bars, color='purple', edgecolor='white', width=barWidth)\n",
    " \n",
    "# Custom X axis\n",
    "plt.xticks(r, ['Male','Female'])\n",
    "plt.xlabel(\"Sex\")\n",
    "plt.title('Cognitive Dissonance by Sex')\n",
    "plt.ylabel(\"Count\")\n",
    "plt.legend(['Pair 1','Pair 2','Pair 3'],loc=1)\n",
    "plt.savefig('Total_sex.png', dpi=300, bbox_inches='tight')\n",
    " \n",
    "# Show graphic\n",
    "plt.show()"
   ]
  },
  {
   "cell_type": "markdown",
   "metadata": {},
   "source": [
    "# Stress"
   ]
  },
  {
   "cell_type": "code",
   "execution_count": 425,
   "metadata": {},
   "outputs": [],
   "source": [
    "s1=usefuldata3['stress1'].tolist()\n",
    "s2=usefuldata3['stress2'].tolist()"
   ]
  },
  {
   "cell_type": "code",
   "execution_count": 426,
   "metadata": {},
   "outputs": [
    {
     "name": "stdout",
     "output_type": "stream",
     "text": [
      "[46, 25, 41]\n",
      "[476, 531, 574]\n"
     ]
    }
   ],
   "source": [
    "def stres(list):\n",
    "    n=0\n",
    "    s=0\n",
    "    a=0\n",
    "    for i in range (len(list)):\n",
    "        if list[i]<3:\n",
    "            a+=1\n",
    "        elif list[i]==3:\n",
    "            s+=1\n",
    "        elif list[i]==4:\n",
    "            n+=1\n",
    "        elif list[i]==5:\n",
    "            n+=1\n",
    "        else:\n",
    "            n=n\n",
    "    return [a,s,n]\n",
    "s1d=stres(s1)\n",
    "s2d=stres(s2)\n",
    "s1c=stres(stress1_list)\n",
    "s2c=stres(stress4_list)\n",
    "print(s1d)\n",
    "print(s1c)"
   ]
  },
  {
   "cell_type": "code",
   "execution_count": 427,
   "metadata": {},
   "outputs": [
    {
     "data": {
      "image/png": "[encoded data removed]",
      "text/plain": [
       "<Figure size 432x288 with 1 Axes>"
      ]
     },
     "metadata": {
      "needs_background": "light"
     },
     "output_type": "display_data"
    }
   ],
   "source": [
    "r = [0,1]\n",
    "raw_data = {'Never': [41, 574], 'Sometimes': [25, 531],'Allthetime': [46, 476]}\n",
    "df = pd.DataFrame(raw_data)\n",
    " \n",
    "# From raw value to percentage\n",
    "totals = [i+j+k for i,j,k in zip(df['Never'], df['Sometimes'], df['Allthetime'])]\n",
    "never = [i / j * 100 for i,j in zip(df['Never'], totals)]\n",
    "sometimes = [i / j * 100 for i,j in zip(df['Sometimes'], totals)]\n",
    "att = [i / j * 100 for i,j in zip(df['Allthetime'], totals)]\n",
    " \n",
    "# plot\n",
    "barWidth = 0.85\n",
    "names = ('Stress1','ControlStress1')\n",
    "# Create green Bars\n",
    "plt.bar(r, never, color='b', edgecolor='white', width=barWidth, label=\"group A\")\n",
    "# Create orange Bars\n",
    "plt.bar(r, sometimes, bottom=never, color='purple', edgecolor='white', width=barWidth, label=\"group B\")\n",
    "# Create blue Bars\n",
    "plt.bar(r, att, bottom=[i+j for i,j in zip(never, sometimes)], color='r', edgecolor='white', width=barWidth, label=\"group C\")\n",
    " \n",
    "# Custom x axis\n",
    "plt.xticks(r, names)\n",
    "plt.xlabel(\"Group\")\n",
    "plt.ylabel('Percentage of Stress Answers')\n",
    "plt.title('Percentage of Stress Answers for Cognitive Dissonance')\n",
    "plt.savefig('Stress.png', dpi=300, bbox_inches='tight')\n",
    " \n",
    "plt.show()\n",
    "\n"
   ]
  },
  {
   "cell_type": "code",
   "execution_count": null,
   "metadata": {},
   "outputs": [],
   "source": []
  },
  {
   "cell_type": "code",
   "execution_count": null,
   "metadata": {},
   "outputs": [],
   "source": []
  }
 ],
 "metadata": {
  "kernelspec": {
   "display_name": "Python 3",
   "language": "python",
   "name": "python3"
  },
  "language_info": {
   "codemirror_mode": {
    "name": "ipython",
    "version": 3
   },
   "file_extension": ".py",
   "mimetype": "text/x-python",
   "name": "python",
   "nbconvert_exporter": "python",
   "pygments_lexer": "ipython3",
   "version": "3.8.5"
  }
 },
 "nbformat": 4,
 "nbformat_minor": 4
}
